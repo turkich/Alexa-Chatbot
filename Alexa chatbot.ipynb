{
 "cells": [
  {
   "cell_type": "code",
   "execution_count": 1,
   "id": "a7eac207",
   "metadata": {},
   "outputs": [],
   "source": [
    "import requests\n",
    "from pprint import pprint"
   ]
  },
  {
   "cell_type": "markdown",
   "id": "fb0f9ca7",
   "metadata": {},
   "source": [
    "***Recherche d'une position***"
   ]
  },
  {
   "cell_type": "code",
   "execution_count": 2,
   "id": "72f5156f",
   "metadata": {},
   "outputs": [],
   "source": [
    "BASE_URL = 'https://nominatim.openstreetmap.org/search?format=json' # nominatim api de OpenStreetMap"
   ]
  },
  {
   "cell_type": "code",
   "execution_count": 3,
   "id": "5050b2a1",
   "metadata": {},
   "outputs": [
    {
     "name": "stdout",
     "output_type": "stream",
     "text": [
      "[{'boundingbox': ['34.5797986', '34.8997986', '10.6000021', '10.9200021'],\n",
      "  'class': 'place',\n",
      "  'display_name': 'صفاقس, المدينة, معتمدية صفاقس المدينة, ولاية صفاقس, 3000, '\n",
      "                  'تونس',\n",
      "  'icon': 'https://nominatim.openstreetmap.org/ui/mapicons//poi_place_city.p.20.png',\n",
      "  'importance': 0.4296806637390702,\n",
      "  'lat': '34.7397986',\n",
      "  'licence': 'Data © OpenStreetMap contributors, ODbL 1.0. '\n",
      "             'https://osm.org/copyright',\n",
      "  'lon': '10.7600021',\n",
      "  'osm_id': 287001619,\n",
      "  'osm_type': 'node',\n",
      "  'place_id': 630433,\n",
      "  'type': 'city'}]\n"
     ]
    }
   ],
   "source": [
    "city='sfax'\n",
    "response = requests.get(f\"{BASE_URL}&city={city}\")\n",
    "data = response.json()\n",
    "pprint(data)"
   ]
  },
  {
   "cell_type": "code",
   "execution_count": 4,
   "id": "fa758518",
   "metadata": {},
   "outputs": [
    {
     "name": "stdout",
     "output_type": "stream",
     "text": [
      "34.7397986 10.7600021\n",
      "['34.5797986', '34.8997986', '10.6000021', '10.9200021']\n"
     ]
    }
   ],
   "source": [
    "latitude = data[0].get('lat')\n",
    "longitude = data[0].get('lon')\n",
    "print(latitude, longitude)\n",
    "\n",
    "bbox = data[0].get('boundingbox')\n",
    "print(bbox)"
   ]
  },
  {
   "cell_type": "code",
   "execution_count": 5,
   "id": "371b998b",
   "metadata": {},
   "outputs": [
    {
     "name": "stdout",
     "output_type": "stream",
     "text": [
      "[{'boundingbox': ['36.6925111', '36.9430196', '10.0037899', '10.3548094'],\n",
      "  'class': 'place',\n",
      "  'display_name': 'تونس, ولاية تونس, تونس',\n",
      "  'icon': 'https://nominatim.openstreetmap.org/ui/mapicons//poi_place_city.p.20.png',\n",
      "  'importance': 0.6312276453007518,\n",
      "  'lat': '36.8002068',\n",
      "  'licence': 'Data © OpenStreetMap contributors, ODbL 1.0. '\n",
      "             'https://osm.org/copyright',\n",
      "  'lon': '10.1857757',\n",
      "  'osm_id': 8896976,\n",
      "  'osm_type': 'relation',\n",
      "  'place_id': 285356892,\n",
      "  'type': 'city'},\n",
      " {'boundingbox': ['30.5249253', '30.5649253', '-96.5471899', '-96.5071899'],\n",
      "  'class': 'place',\n",
      "  'display_name': 'Tunis, Burleson County, Texas, United States',\n",
      "  'icon': 'https://nominatim.openstreetmap.org/ui/mapicons//poi_place_village.p.20.png',\n",
      "  'importance': 0.35,\n",
      "  'lat': '30.5449253',\n",
      "  'licence': 'Data © OpenStreetMap contributors, ODbL 1.0. '\n",
      "             'https://osm.org/copyright',\n",
      "  'lon': '-96.5271899',\n",
      "  'osm_id': 151720586,\n",
      "  'osm_type': 'node',\n",
      "  'place_id': 169421,\n",
      "  'type': 'hamlet'},\n",
      " {'boundingbox': ['63.109341', '63.149341', '22.2435783', '22.2835783'],\n",
      "  'class': 'place',\n",
      "  'display_name': 'Tunis, Koskeby, Vörå, Vaasan seutukunta, Österbotten, '\n",
      "                  'Länsi- ja Sisä-Suomen aluehallintovirasto, Manner-Suomi, '\n",
      "                  '66600, Suomi / Finland',\n",
      "  'icon': 'https://nominatim.openstreetmap.org/ui/mapicons//poi_place_village.p.20.png',\n",
      "  'importance': 0.35,\n",
      "  'lat': '63.129341',\n",
      "  'licence': 'Data © OpenStreetMap contributors, ODbL 1.0. '\n",
      "             'https://osm.org/copyright',\n",
      "  'lon': '22.2635783',\n",
      "  'osm_id': 1501765306,\n",
      "  'osm_type': 'node',\n",
      "  'place_id': 14567653,\n",
      "  'type': 'hamlet'},\n",
      " {'boundingbox': ['46.4232773', '46.4632773', '-88.6376377', '-88.5976377'],\n",
      "  'class': 'place',\n",
      "  'display_name': 'Tunis, Covington Township, Baraga County, Michigan, United '\n",
      "                  'States',\n",
      "  'icon': 'https://nominatim.openstreetmap.org/ui/mapicons//poi_place_village.p.20.png',\n",
      "  'importance': 0.35,\n",
      "  'lat': '46.4432773',\n",
      "  'licence': 'Data © OpenStreetMap contributors, ODbL 1.0. '\n",
      "             'https://osm.org/copyright',\n",
      "  'lon': '-88.6176377',\n",
      "  'osm_id': 153528181,\n",
      "  'osm_type': 'node',\n",
      "  'place_id': 203277,\n",
      "  'type': 'hamlet'},\n",
      " {'boundingbox': ['38.6828935', '38.7228935', '-78.8872474', '-78.8472474'],\n",
      "  'class': 'place',\n",
      "  'display_name': 'Tunis, Rockingham County, Virginia, United States',\n",
      "  'icon': 'https://nominatim.openstreetmap.org/ui/mapicons//poi_place_village.p.20.png',\n",
      "  'importance': 0.35,\n",
      "  'lat': '38.7028935',\n",
      "  'licence': 'Data © OpenStreetMap contributors, ODbL 1.0. '\n",
      "             'https://osm.org/copyright',\n",
      "  'lon': '-78.8672474',\n",
      "  'osm_id': 157577319,\n",
      "  'osm_type': 'node',\n",
      "  'place_id': 251209,\n",
      "  'type': 'hamlet'},\n",
      " {'boundingbox': ['36.3643211', '36.4043211', '-76.9080131', '-76.8680131'],\n",
      "  'class': 'place',\n",
      "  'display_name': 'Tunis, Hertford County, North Carolina, 27922, United '\n",
      "                  'States',\n",
      "  'icon': 'https://nominatim.openstreetmap.org/ui/mapicons//poi_place_village.p.20.png',\n",
      "  'importance': 0.35,\n",
      "  'lat': '36.3843211',\n",
      "  'licence': 'Data © OpenStreetMap contributors, ODbL 1.0. '\n",
      "             'https://osm.org/copyright',\n",
      "  'lon': '-76.8880131',\n",
      "  'osm_id': 158277156,\n",
      "  'osm_type': 'node',\n",
      "  'place_id': 238620,\n",
      "  'type': 'hamlet'},\n",
      " {'boundingbox': ['38.8078942', '38.8478942', '-76.2866167', '-76.2466167'],\n",
      "  'class': 'place',\n",
      "  'display_name': 'Tunis, Talbot County, Maryland, 21624, United States',\n",
      "  'icon': 'https://nominatim.openstreetmap.org/ui/mapicons//poi_place_village.p.20.png',\n",
      "  'importance': 0.35,\n",
      "  'lat': '38.8278942',\n",
      "  'licence': 'Data © OpenStreetMap contributors, ODbL 1.0. '\n",
      "             'https://osm.org/copyright',\n",
      "  'lon': '-76.2666167',\n",
      "  'osm_id': 158458305,\n",
      "  'osm_type': 'node',\n",
      "  'place_id': 262362,\n",
      "  'type': 'hamlet'},\n",
      " {'boundingbox': ['32.2314761', '32.2714761', '-107.9378117', '-107.8978117'],\n",
      "  'class': 'place',\n",
      "  'display_name': 'Tunis, Luna County, New Mexico, United States',\n",
      "  'icon': 'https://nominatim.openstreetmap.org/ui/mapicons//poi_place_village.p.20.png',\n",
      "  'importance': 0.35,\n",
      "  'lat': '32.2514761',\n",
      "  'licence': 'Data © OpenStreetMap contributors, ODbL 1.0. '\n",
      "             'https://osm.org/copyright',\n",
      "  'lon': '-107.9178117',\n",
      "  'osm_id': 151364246,\n",
      "  'osm_type': 'node',\n",
      "  'place_id': 286300980,\n",
      "  'type': 'hamlet'},\n",
      " {'boundingbox': ['35.9461824', '35.9861824', '-90.5578855', '-90.5178855'],\n",
      "  'class': 'place',\n",
      "  'display_name': 'Tunis, Greene County, Arkansas, United States',\n",
      "  'icon': 'https://nominatim.openstreetmap.org/ui/mapicons//poi_place_village.p.20.png',\n",
      "  'importance': 0.35,\n",
      "  'lat': '35.9661824',\n",
      "  'licence': 'Data © OpenStreetMap contributors, ODbL 1.0. '\n",
      "             'https://osm.org/copyright',\n",
      "  'lon': '-90.5378855',\n",
      "  'osm_id': 151493448,\n",
      "  'osm_type': 'node',\n",
      "  'place_id': 286296369,\n",
      "  'type': 'hamlet'},\n",
      " {'boundingbox': ['47.7869121', '47.8269121', '-110.8627211', '-110.8227211'],\n",
      "  'class': 'place',\n",
      "  'display_name': 'Tunis, Chouteau County, Montana, United States',\n",
      "  'icon': 'https://nominatim.openstreetmap.org/ui/mapicons//poi_place_village.p.20.png',\n",
      "  'importance': 0.35,\n",
      "  'lat': '47.8069121',\n",
      "  'licence': 'Data © OpenStreetMap contributors, ODbL 1.0. '\n",
      "             'https://osm.org/copyright',\n",
      "  'lon': '-110.8427211',\n",
      "  'osm_id': 150974149,\n",
      "  'osm_type': 'node',\n",
      "  'place_id': 156097,\n",
      "  'type': 'hamlet'}]\n"
     ]
    }
   ],
   "source": [
    "city='tunis'\n",
    "response1 = requests.get(f\"{BASE_URL}&city={city}\")\n",
    "data1 = response1.json()\n",
    "pprint(data1)\n",
    "latitude1 = data1[0].get('lat')\n",
    "longitude1 = data1[0].get('lon')\n"
   ]
  },
  {
   "cell_type": "markdown",
   "id": "a67c8c04",
   "metadata": {},
   "source": [
    "***Obtenir Ma localisation***"
   ]
  },
  {
   "cell_type": "code",
   "execution_count": 6,
   "id": "e9c4c593",
   "metadata": {},
   "outputs": [
    {
     "name": "stdout",
     "output_type": "stream",
     "text": [
      "Latitude :  34.4628\n",
      "Longitude :  9.2640\n",
      "City :  As Sanad\n"
     ]
    }
   ],
   "source": [
    "#obtenir mon position a partir de l'adresse ip \n",
    "import requests\n",
    "\n",
    "res = requests.get('https://ipinfo.io/') # api de localisation \n",
    "data = res.json()\n",
    "\n",
    "my_city = data['city']\n",
    "\n",
    "my_location = data['loc'].split(',')\n",
    "my_latitude = my_location[0]\n",
    "my_longitude = my_location[1]\n",
    "\n",
    "\n",
    "print(\"Latitude : \", my_latitude)\n",
    "print(\"Longitude : \", my_longitude)\n",
    "print(\"City : \", my_city)"
   ]
  },
  {
   "cell_type": "code",
   "execution_count": 11,
   "id": "c4b2bbfc",
   "metadata": {},
   "outputs": [],
   "source": [
    "def my_ip():\n",
    "    res = requests.get('https://ipinfo.io/') # api de localisation \n",
    "    data = res.json()\n",
    "    ip=data['ip']\n",
    "    return ip"
   ]
  },
  {
   "cell_type": "code",
   "execution_count": 7,
   "id": "576730d8",
   "metadata": {},
   "outputs": [
    {
     "data": {
      "text/plain": [
       "'196.203.181.122'"
      ]
     },
     "execution_count": 7,
     "metadata": {},
     "output_type": "execute_result"
    }
   ],
   "source": [
    "my_ip()"
   ]
  },
  {
   "cell_type": "markdown",
   "id": "a9fb45df",
   "metadata": {},
   "source": [
    "***Find the distances between the two points***"
   ]
  },
  {
   "cell_type": "code",
   "execution_count": 7,
   "id": "51470d34",
   "metadata": {},
   "outputs": [
    {
     "name": "stdout",
     "output_type": "stream",
     "text": [
      "(34.4628, 9.264)\n",
      "(34.7397986, 10.7600021)\n"
     ]
    }
   ],
   "source": [
    "my_position = float(my_latitude), float(my_longitude)\n",
    "destination = float(latitude), float(longitude)\n",
    "print(my_position)\n",
    "print(destination)"
   ]
  },
  {
   "cell_type": "code",
   "execution_count": 41,
   "id": "bc087d4d",
   "metadata": {},
   "outputs": [
    {
     "name": "stdout",
     "output_type": "stream",
     "text": [
      "Requirement already satisfied: geopy in c:\\programdata\\anaconda3\\lib\\site-packages (2.2.0)\n",
      "Requirement already satisfied: geographiclib<2,>=1.49 in c:\\programdata\\anaconda3\\lib\\site-packages (from geopy) (1.52)\n"
     ]
    },
    {
     "name": "stderr",
     "output_type": "stream",
     "text": [
      "WARNING: You are using pip version 22.0.3; however, version 22.0.4 is available.\n",
      "You should consider upgrading via the 'C:\\ProgramData\\Anaconda3\\python.exe -m pip install --upgrade pip' command.\n"
     ]
    }
   ],
   "source": [
    "!pip install geopy"
   ]
  },
  {
   "cell_type": "markdown",
   "id": "52360e30",
   "metadata": {},
   "source": [
    "***test1 : distance entre ma position actuelle et sfax***"
   ]
  },
  {
   "cell_type": "code",
   "execution_count": 8,
   "id": "7c7d1157",
   "metadata": {},
   "outputs": [
    {
     "name": "stdout",
     "output_type": "stream",
     "text": [
      "Distance between 2 places:\n",
      "140.62319840184412 km\n"
     ]
    }
   ],
   "source": [
    "from geopy.distance import distance\n",
    "\n",
    "km = distance(my_position, destination)\n",
    "\n",
    "\n",
    "print(\"Distance between 2 places:\")\n",
    "print(f\"{km}\")"
   ]
  },
  {
   "cell_type": "markdown",
   "id": "ac8946e1",
   "metadata": {},
   "source": [
    "***test2 : distance entre sfax et tunis***"
   ]
  },
  {
   "cell_type": "code",
   "execution_count": 17,
   "id": "2fb6f2aa",
   "metadata": {},
   "outputs": [
    {
     "name": "stdout",
     "output_type": "stream",
     "text": [
      "(34.7397986, 10.7600021)\n",
      "(36.8002068, 10.1857757)\n",
      "Distance between sfax and tunis:\n",
      "234.43312876546662 km\n"
     ]
    }
   ],
   "source": [
    "depart=float(latitude1), float(longitude1)\n",
    "destination = float(latitude), float(longitude)\n",
    "km = distance(depart, destination)\n",
    "print(destination)\n",
    "print(depart)\n",
    "print(\"Distance between sfax and tunis:\")\n",
    "print(f\"{km}\")\n",
    "a=\"the distance between sfax and tunis is \" + str(round(km.km)) + \" kilometers\"\n",
    "talk(a)"
   ]
  },
  {
   "cell_type": "markdown",
   "id": "d7fefc4b",
   "metadata": {},
   "source": [
    "***Convert speech to text***"
   ]
  },
  {
   "cell_type": "code",
   "execution_count": 102,
   "id": "3086300e",
   "metadata": {},
   "outputs": [
    {
     "name": "stdout",
     "output_type": "stream",
     "text": [
      "Requirement already satisfied: SpeechRecognition in c:\\programdata\\anaconda3\\lib\\site-packages (3.8.1)\n"
     ]
    },
    {
     "name": "stderr",
     "output_type": "stream",
     "text": [
      "WARNING: You are using pip version 22.0.2; however, version 22.0.3 is available.\n",
      "You should consider upgrading via the 'C:\\ProgramData\\Anaconda3\\python.exe -m pip install --upgrade pip' command.\n"
     ]
    }
   ],
   "source": [
    "!pip install SpeechRecognition"
   ]
  },
  {
   "cell_type": "code",
   "execution_count": 1,
   "id": "228aff07",
   "metadata": {},
   "outputs": [],
   "source": [
    "import pyaudio"
   ]
  },
  {
   "cell_type": "code",
   "execution_count": 2,
   "id": "56c9ddc2",
   "metadata": {},
   "outputs": [],
   "source": [
    "import speech_recognition as sr"
   ]
  },
  {
   "cell_type": "code",
   "execution_count": 3,
   "id": "d6d34c5f",
   "metadata": {},
   "outputs": [],
   "source": [
    "listener=sr.Recognizer()"
   ]
  },
  {
   "cell_type": "code",
   "execution_count": 4,
   "id": "7e57c386",
   "metadata": {},
   "outputs": [],
   "source": [
    "def Listen(): # fonction qui convertit speech to text ( on va utiliser cette fonction pour lancer le chatbot)\n",
    "    \n",
    "    with sr.Microphone() as input_device:\n",
    "        print(' listening ...')\n",
    "        listener.adjust_for_ambient_noise(input_device, duration=0.5)\n",
    "        voice_content = listener.listen(input_device)\n",
    "        text_command=\"\"\n",
    "        try:      \n",
    "            text_command = listener.recognize_google(voice_content,language='en_US') #language=\"en_US\" or fr-FR\n",
    "            text_command = text_command.lower()\n",
    "            print (text_command)\n",
    "        except :\n",
    "           # print(\"Exception\" + str(e))\n",
    "            pass\n",
    "            \n",
    "        return text_command"
   ]
  },
  {
   "cell_type": "code",
   "execution_count": 50,
   "id": "12602a22",
   "metadata": {},
   "outputs": [
    {
     "name": "stdout",
     "output_type": "stream",
     "text": [
      " listening ...\n",
      "my position\n"
     ]
    },
    {
     "data": {
      "text/plain": [
       "'my position'"
      ]
     },
     "execution_count": 50,
     "metadata": {},
     "output_type": "execute_result"
    }
   ],
   "source": [
    "Listen()"
   ]
  },
  {
   "cell_type": "code",
   "execution_count": 33,
   "id": "3fc5d8de",
   "metadata": {},
   "outputs": [
    {
     "ename": "NameError",
     "evalue": "name 'talk' is not defined",
     "output_type": "error",
     "traceback": [
      "\u001b[1;31m---------------------------------------------------------------------------\u001b[0m",
      "\u001b[1;31mNameError\u001b[0m                                 Traceback (most recent call last)",
      "\u001b[1;32m<ipython-input-33-4dddeeeec408>\u001b[0m in \u001b[0;36m<module>\u001b[1;34m\u001b[0m\n\u001b[1;32m----> 1\u001b[1;33m \u001b[0mtalk\u001b[0m\u001b[1;33m(\u001b[0m\u001b[1;34m\"sfax\"\u001b[0m\u001b[1;33m)\u001b[0m\u001b[1;33m\u001b[0m\u001b[1;33m\u001b[0m\u001b[0m\n\u001b[0m",
      "\u001b[1;31mNameError\u001b[0m: name 'talk' is not defined"
     ]
    }
   ],
   "source": [
    "talk(\"sfax\")"
   ]
  },
  {
   "cell_type": "markdown",
   "id": "620a58c8",
   "metadata": {},
   "source": [
    "***Convert text to speech***"
   ]
  },
  {
   "cell_type": "code",
   "execution_count": 47,
   "id": "2147aa24",
   "metadata": {},
   "outputs": [],
   "source": [
    "#!pip install pyttsx3 : deep learning library to convert text to speech"
   ]
  },
  {
   "cell_type": "code",
   "execution_count": 10,
   "id": "b8032ab9",
   "metadata": {},
   "outputs": [],
   "source": [
    "import pyttsx3"
   ]
  },
  {
   "cell_type": "code",
   "execution_count": 11,
   "id": "b865ac05",
   "metadata": {},
   "outputs": [],
   "source": [
    "player = pyttsx3.init() # initialiser pyttsx3"
   ]
  },
  {
   "cell_type": "code",
   "execution_count": 12,
   "id": "4f95bda5",
   "metadata": {},
   "outputs": [
    {
     "name": "stdout",
     "output_type": "stream",
     "text": [
      "<Voice id=HKEY_LOCAL_MACHINE\\SOFTWARE\\Microsoft\\Speech\\Voices\\Tokens\\TTS_MS_FR-FR_HORTENSE_11.0\n",
      "          name=Microsoft Hortense Desktop - French\n",
      "          languages=[]\n",
      "          gender=None\n",
      "          age=None>\n",
      "<Voice id=HKEY_LOCAL_MACHINE\\SOFTWARE\\Microsoft\\Speech\\Voices\\Tokens\\TTS_MS_EN-US_ZIRA_11.0\n",
      "          name=Microsoft Zira Desktop - English (United States)\n",
      "          languages=[]\n",
      "          gender=None\n",
      "          age=None>\n",
      "<Voice id=HKEY_LOCAL_MACHINE\\SOFTWARE\\Microsoft\\Speech\\Voices\\Tokens\\TTS_MS_EN-US_DAVID_11.0\n",
      "          name=Microsoft David Desktop - English (United States)\n",
      "          languages=[]\n",
      "          gender=None\n",
      "          age=None>\n"
     ]
    }
   ],
   "source": [
    "for voice in player.getProperty('voices'):\n",
    "    print(voice)"
   ]
  },
  {
   "cell_type": "code",
   "execution_count": 13,
   "id": "4af0a482",
   "metadata": {},
   "outputs": [
    {
     "data": {
      "text/plain": [
       "[<pyttsx3.voice.Voice at 0x235590aa9d0>,\n",
       " <pyttsx3.voice.Voice at 0x235590b4e80>,\n",
       " <pyttsx3.voice.Voice at 0x23559218c10>]"
      ]
     },
     "execution_count": 13,
     "metadata": {},
     "output_type": "execute_result"
    }
   ],
   "source": [
    "voices=player.getProperty('voices')\n",
    "voices"
   ]
  },
  {
   "cell_type": "code",
   "execution_count": 14,
   "id": "b1022516",
   "metadata": {},
   "outputs": [],
   "source": [
    "player.setProperty('voice',voices[1].id) #set up the voice to english language "
   ]
  },
  {
   "cell_type": "code",
   "execution_count": 10,
   "id": "45d02aab",
   "metadata": {},
   "outputs": [],
   "source": [
    "#documentation pour raspberry\n",
    "#https://circuitdigest.com/microcontroller-projects/best-text-to-speech-tts-converter-for-raspberry-pi-espeak-festival-google-tts-pico-and-pyttsx3"
   ]
  },
  {
   "cell_type": "code",
   "execution_count": 15,
   "id": "4d2fe4a6",
   "metadata": {},
   "outputs": [],
   "source": [
    "player.setProperty('rate',120)"
   ]
  },
  {
   "cell_type": "code",
   "execution_count": 20,
   "id": "7171aaff",
   "metadata": {},
   "outputs": [],
   "source": [
    "def change_voice(engine, language, gender='VoiceGenderFemale'):\n",
    "    for voice in engine.getProperty('voices'):\n",
    "        if language in voice.languages and gender == voice.gender:\n",
    "            engine.setProperty('voice', voice.id)\n",
    "            return True\n",
    "\n",
    "    raise RuntimeError(\"Language '{}' for gender '{}' not found\".format(language, gender))\n",
    "    "
   ]
  },
  {
   "cell_type": "code",
   "execution_count": 16,
   "id": "1184a020",
   "metadata": {},
   "outputs": [],
   "source": [
    "def talk (text): # la fonction qui retourne le voix \n",
    "    player.say(text)\n",
    "    player.runAndWait()"
   ]
  },
  {
   "cell_type": "code",
   "execution_count": 23,
   "id": "08a6501f",
   "metadata": {},
   "outputs": [],
   "source": [
    "talk(\"Salut je suis votre assistant vocal\") # test de la fonction =>Sound On"
   ]
  },
  {
   "cell_type": "code",
   "execution_count": 10,
   "id": "0a63f3d0",
   "metadata": {},
   "outputs": [],
   "source": [
    "talk(\"Alexa\")"
   ]
  },
  {
   "cell_type": "code",
   "execution_count": 16,
   "id": "062bb29b",
   "metadata": {},
   "outputs": [],
   "source": [
    "talk(\"hello, we are turki ayman and zouari rami , welcome to this demo video of our project : Alexa chatbot , good  watching\")"
   ]
  },
  {
   "cell_type": "code",
   "execution_count": 8,
   "id": "63cd0eed",
   "metadata": {},
   "outputs": [],
   "source": [
    "talk('hello dear network welcome to my Linkedin profile , i m zouari rami a second year student at SUPCOM , i will present to you ALEXA , our AI chatbot assistant for safe and intelligent driving ')"
   ]
  },
  {
   "cell_type": "markdown",
   "id": "5f2b45c5",
   "metadata": {},
   "source": [
    "***fonction pour determiner les lieux***"
   ]
  },
  {
   "cell_type": "code",
   "execution_count": 14,
   "id": "caf8ab9b",
   "metadata": {},
   "outputs": [],
   "source": [
    "def get_localisation(nom):\n",
    "    response = requests.get(f\"{BASE_URL}&city={nom}\")\n",
    "    data = response.json()\n",
    "    latitude = data[0].get('lat')\n",
    "    longitude = data[0].get('lon')\n",
    "    localisation = float(latitude), float(longitude)\n",
    "    return localisation"
   ]
  },
  {
   "cell_type": "markdown",
   "id": "07841bc8",
   "metadata": {},
   "source": [
    "***fonction pour determiner la distance entre 2 localisations***"
   ]
  },
  {
   "cell_type": "code",
   "execution_count": 15,
   "id": "24ebce88",
   "metadata": {},
   "outputs": [],
   "source": [
    "def get_distance(loc1,loc2):\n",
    "    km = distance(loc1, loc2)\n",
    "    res=\"the distance between the two localisations\" + str(round(km.km)) + \" kilometers\"\n",
    "    talk(res)"
   ]
  },
  {
   "cell_type": "markdown",
   "id": "7ec40bf6",
   "metadata": {},
   "source": [
    "***fonction pour determiner ma position à partir de l adresse ip***"
   ]
  },
  {
   "cell_type": "code",
   "execution_count": 16,
   "id": "ad26fa86",
   "metadata": {},
   "outputs": [],
   "source": [
    "def my_position():\n",
    "    res = requests.get('https://ipinfo.io/') # api de localisation \n",
    "    data = res.json()\n",
    "    my_city = data['city']\n",
    "    my_location = data['loc'].split(',')\n",
    "    my_latitude = my_location[0]\n",
    "    my_longitude = my_location[1]\n",
    "    my_position = float(my_latitude), float(my_longitude)\n",
    "    return my_position"
   ]
  },
  {
   "cell_type": "markdown",
   "id": "08014360",
   "metadata": {},
   "source": [
    "***fonction pour donner des blagues***"
   ]
  },
  {
   "cell_type": "code",
   "execution_count": null,
   "id": "45172a58",
   "metadata": {},
   "outputs": [],
   "source": [
    "#!pip install pyjokes"
   ]
  },
  {
   "cell_type": "code",
   "execution_count": 19,
   "id": "e2715e96",
   "metadata": {},
   "outputs": [],
   "source": [
    "import pyjokes"
   ]
  },
  {
   "cell_type": "code",
   "execution_count": 20,
   "id": "23ea781c",
   "metadata": {},
   "outputs": [],
   "source": [
    "def joke():\n",
    "    funny = pyjokes.get_joke() # langage par défaut anglais : https://pyjok.es/api/\n",
    "    # print(funny)\n",
    "    talk(funny)"
   ]
  },
  {
   "cell_type": "code",
   "execution_count": 21,
   "id": "a15de1f5",
   "metadata": {},
   "outputs": [],
   "source": [
    "joke()"
   ]
  },
  {
   "cell_type": "markdown",
   "id": "906d1ecb",
   "metadata": {},
   "source": [
    "***Todo list***"
   ]
  },
  {
   "cell_type": "code",
   "execution_count": 54,
   "id": "b3ec7495",
   "metadata": {},
   "outputs": [],
   "source": [
    "from datetime import date\n",
    "from enum import Enum\n",
    "from uuid import uuid4"
   ]
  },
  {
   "cell_type": "code",
   "execution_count": 67,
   "id": "ba9201b1",
   "metadata": {},
   "outputs": [],
   "source": [
    "class Status(Enum):\n",
    "    \"\"\" The Todo Statuses \"\"\"\n",
    "    NOT_STARTED = 0\n",
    "    IN_PROGRESS =  1\n",
    "    COMPLETED = 2\n",
    "\n",
    "\n",
    "class Priority(Enum):\n",
    "    LOW = 0\n",
    "    MEDIUM = 1\n",
    "    HIGH = 2\n",
    "\n",
    "\n",
    "class Item():\n",
    "    __creation_date = date.today()\n",
    "    __title = \"empty\"\n",
    "    __status = Status.NOT_STARTED\n",
    "    __priority = Priority.LOW\n",
    "    __flag = False \n",
    "    __url = \"\"\n",
    "    __due_date = date\n",
    "    __icon = \"\"\n",
    "    __state = False\n",
    "    __notes = \"\"\n",
    "\n",
    "    def __init__(self, title:str=None):\n",
    "        if title is not None:\n",
    "            self.__title = title\n",
    "        self.__id = str(uuid4())\n",
    "\n",
    "    @property\n",
    "    def title(self):\n",
    "        return self.__title\n",
    "\n",
    "    @title.setter\n",
    "    def title(self, value:str):\n",
    "        self.__title = value\n",
    "\n",
    "    @property\n",
    "    def priority(self):\n",
    "        return self.__priority.name\n",
    "    \n",
    "    @priority.setter\n",
    "    def priority(self, value:Priority):\n",
    "        self.__priority = value\n",
    "\n",
    "    @property\n",
    "    def creation_date(self):\n",
    "        return self.__creation_date\n",
    "\n",
    "    @creation_date.setter\n",
    "    def creation_date(self, value):\n",
    "        self.__creation_date = value\n",
    "\n",
    "    @property\n",
    "    def age(self):\n",
    "        return self.__creation_date - date.today()\n",
    "    \n",
    "    @property\n",
    "    def status(self):\n",
    "        return self.__status.name\n",
    "    @status.setter\n",
    "    def status(self, value:Status):\n",
    "        self.__status = value\n",
    "\n",
    "    @property\n",
    "    def id(self):\n",
    "        return self.__id\n",
    "    \n",
    "    @property\n",
    "    def flag(self):\n",
    "        return self.__flag\n",
    "\n",
    "    @flag.setter\n",
    "    def flag(self, value:bool):\n",
    "        self.__flag = value\n",
    "\n",
    "    @property\n",
    "    def url(self):\n",
    "        return self.__url\n",
    "\n",
    "    @url.setter\n",
    "    def url(self, value:str):\n",
    "        self.__url = value\n",
    "    \n",
    "    @property\n",
    "    def due_date(self):\n",
    "        return self.__due_date\n",
    "\n",
    "    @due_date.setter\n",
    "    def due_date(self, value:date):\n",
    "        self.__due_date = value\n",
    "    \n",
    "    @property\n",
    "    def icon(self):\n",
    "        return self.__icon\n",
    "\n",
    "    @icon.setter\n",
    "    def icon(self, value:str):\n",
    "        self.__icon = value\n",
    "\n",
    "    @property\n",
    "    def state(self):\n",
    "        return self.__state\n",
    "\n",
    "    @state.setter\n",
    "    def state(self, value:bool):\n",
    "        self.__state = value\n",
    "\n",
    "    @property\n",
    "    def notes(self):\n",
    "        return self.__notes\n",
    "\n",
    "    @notes.setter\n",
    "    def notes(self, value:str):\n",
    "        self.__value = value\n",
    "\n",
    "class Todo():\n",
    "    __todos = []\n",
    "\n",
    "    def __init__(self):\n",
    "        print(\"new todo list created\")\n",
    "        self._current = -1\n",
    "\n",
    "    def __iter__(self):\n",
    "        return self\n",
    "\n",
    "    def __next__(self):\n",
    "        if self._current < len(self.__todos) -1 :\n",
    "            self._current += 1\n",
    "            print(self.__todos[self._current].title)\n",
    "            return self.__todos[self._current]\n",
    "        else:\n",
    "            self._current = -1\n",
    "        raise StopIteration\n",
    "\n",
    "    def __len__(self):\n",
    "        \"\"\" Returns the number of items in the Todo List \"\"\"\n",
    "        return len(self.__todos)\n",
    "\n",
    "\n",
    "    def new_item(self, item:Item):\n",
    "        self.__todos.append(item)\n",
    "    \n",
    "    @property\n",
    "    def items(self)->list:\n",
    "        return self.__todos\n",
    "\n",
    "    def show(self):\n",
    "        print(\"*\"*80)\n",
    "        for item in self.__todos:\n",
    "            print(item.title, item.status, item.priority, item.age)\n",
    "        \n",
    "    @classmethod\n",
    "    def show(cls):\n",
    "        print(\"*\"*80)\n",
    "        print(\"Todo Items\")\n",
    "        print('*'*80)\n",
    "        count = 1\n",
    "        if len(cls.__todos) == 0:\n",
    "            print(\"No items in list!\")\n",
    "        else:\n",
    "            for item in cls.__todos:\n",
    "                print(count, item.title, item.status, item.priority, item.age, item.id)\n",
    "                count += 1 \n",
    "            print(\"\")\n",
    "\n",
    "    def remove_item(self, uuid:str=None, title:str=None)->bool:\n",
    "        if title is None and uuid is None:\n",
    "            talk(\"You need to provide some details for me to remote it, either UUID or title\")\n",
    "        if uuid is None and title:\n",
    "            for item in self.__todos:\n",
    "                if item.title == title:\n",
    "                    # del self.__todos[item\n",
    "                    self.__todos.remove(item)  \n",
    "                    return True\n",
    "            print(\"Item with title\", title, 'not found')\n",
    "            return False\n",
    "        if uuid:\n",
    "            self.__todos.remove(uuid)\n",
    "            \n",
    "            return True"
   ]
  },
  {
   "cell_type": "code",
   "execution_count": 69,
   "id": "4363c0ec",
   "metadata": {},
   "outputs": [
    {
     "name": "stdout",
     "output_type": "stream",
     "text": [
      "new todo list created\n",
      "********************************************************************************\n",
      "Todo Items\n",
      "********************************************************************************\n",
      "1 Get shopping NOT_STARTED LOW 0:00:00 c13f6bf0-0afd-4a7d-bcb2-bb87bae2a3b0\n",
      "\n",
      "********************************************************************************\n",
      "Todo Items\n",
      "********************************************************************************\n",
      "No items in list!\n",
      "Item with title Get shopping not found\n",
      "********************************************************************************\n",
      "Todo Items\n",
      "********************************************************************************\n",
      "No items in list!\n"
     ]
    }
   ],
   "source": [
    "i = Item(\"Get shopping\")\n",
    "l = Todo()\n",
    "l.new_item(i)\n",
    "l.show()    \n",
    "l.remove_item(title='Get shopping')\n",
    "l.show()\n",
    "l.remove_item(title='Get shopping')\n",
    "l.show()"
   ]
  },
  {
   "cell_type": "code",
   "execution_count": 73,
   "id": "391f26be",
   "metadata": {},
   "outputs": [
    {
     "name": "stdout",
     "output_type": "stream",
     "text": [
      "new todo list created\n"
     ]
    }
   ],
   "source": [
    "todo = Todo()\n",
    "\n",
    "def add_todo()->bool:\n",
    "    item = Item()\n",
    "    talk(\"Tell me what to add to the list\")\n",
    "    try:\n",
    "        item.title = Listen()\n",
    "        todo.new_item(item)\n",
    "        message = \"Added \" + item.title\n",
    "        talk(message)\n",
    "        return True\n",
    "    except:\n",
    "        print(\"oops there was an error\")\n",
    "        return False\n",
    "    \n",
    "def list_todos():\n",
    "    if len(todo) > 0:\n",
    "        talk(\"Here are your to do's\")\n",
    "        for item in todo:\n",
    "            talk(item.title)\n",
    "            \n",
    "    else:\n",
    "        talk(\"The to do list is empty!\")\n",
    "\n",
    "def remove_todo()->bool:\n",
    "    talk(\"Tell me which item to remove\")\n",
    "    try:\n",
    "        item_title = Listen()\n",
    "        if todo.remove_item(title=item_title):\n",
    "            message = \"Removed \" + item_title\n",
    "            talk(message)\n",
    "        \n",
    "        return True\n",
    "    except:\n",
    "        print(\"opps there was an error\")\n",
    "        return False"
   ]
  },
  {
   "cell_type": "code",
   "execution_count": 76,
   "id": "5a5ffab7",
   "metadata": {},
   "outputs": [
    {
     "name": "stdout",
     "output_type": "stream",
     "text": [
      "new todo list created\n",
      "Get shopping\n",
      "Get shopping\n",
      "Do my homework\n",
      "Get shopping\n",
      "Do my homework\n",
      "Get shopping\n",
      "Do my homework\n",
      "Get shopping\n",
      "Do my homework\n"
     ]
    }
   ],
   "source": [
    "todo1=Todo()\n",
    "i1 = Item(\"Get shopping\")\n",
    "i2 = Item(\"Do my homework\")\n",
    "todo1.new_item(i1)\n",
    "todo1.new_item(i1)\n",
    "todo1.new_item(i2)\n",
    "list_todos()"
   ]
  },
  {
   "cell_type": "code",
   "execution_count": 53,
   "id": "e2277a28",
   "metadata": {},
   "outputs": [],
   "source": [
    "# fonction pour choisir une autre option\n",
    "\n",
    "def another_choice() :\n",
    "    talk(\"do you want to choose another option ? if yes give me your choice \")\n",
    "    reponse=Listen()\n",
    "    if \"yes\" in reponse : \n",
    "        reponse=reponse.replace(\"yes\",\"\")\n",
    "        if reponse==\" add item\":\n",
    "            add_todo()\n",
    "            \n",
    "        elif reponse==\" list items\":\n",
    "            list_todos()\n",
    "        elif reponse==\" remove-item\" : \n",
    "            remove_todo()\n",
    "    elif \"no\" in reponse : \n",
    "        talk(\"ok have a nice day\")\n",
    "    else :\n",
    "        talk(\"sorry, I can't find what you are looking for\")\n",
    "        another_choice()"
   ]
  },
  {
   "cell_type": "code",
   "execution_count": 67,
   "id": "9d050b2f",
   "metadata": {},
   "outputs": [
    {
     "name": "stdout",
     "output_type": "stream",
     "text": [
      " listening ...\n",
      "yes remove-item\n",
      " listening ...\n",
      "play\n",
      "Item with title play not found\n"
     ]
    }
   ],
   "source": [
    "another_choice()"
   ]
  },
  {
   "cell_type": "markdown",
   "id": "caae6abf",
   "metadata": {},
   "source": [
    "***Api weather***"
   ]
  },
  {
   "cell_type": "code",
   "execution_count": 81,
   "id": "4717135a",
   "metadata": {},
   "outputs": [],
   "source": [
    "# utiliser l'api open source openweathermap https://openweathermap.org/\n",
    "# créer un compte pour obtenir the api key \n",
    "# générer the api key \n",
    "# https://openweathermap.org/current : documentation de l'api utilisée"
   ]
  },
  {
   "cell_type": "code",
   "execution_count": 24,
   "id": "17f284f3",
   "metadata": {},
   "outputs": [],
   "source": [
    "import requests\n",
    "from datetime import datetime"
   ]
  },
  {
   "cell_type": "code",
   "execution_count": 22,
   "id": "be7a4c72",
   "metadata": {},
   "outputs": [],
   "source": [
    "def current_weather(location) :\n",
    "    key=\"e7b65edea77763f2e1392314cf06a6e8\"\n",
    "    complete_api_link=f\"https://api.openweathermap.org/data/2.5/weather?q={location}&appid={key}\"\n",
    "    api_link = requests.get(complete_api_link)\n",
    "    api_data = api_link.json()\n",
    "    temp_city = ((api_data['main']['temp']) - 273.15)\n",
    "    weather_desc = api_data['weather'][0]['description']\n",
    "    hmdt = api_data['main']['humidity']\n",
    "    wind_spd = api_data['wind']['speed']\n",
    "    \n",
    "    date_time = datetime.now().strftime(\"%d %b %Y\")\n",
    "    \n",
    "    talk(\"Weather Stats for {} in the date {}\".format(location.upper(), date_time))\n",
    "    talk(\"Current temperature is: {:.2f} degree celcius\".format(temp_city))\n",
    "    talk(f\"Current weather description  :{weather_desc}\")\n",
    "    talk(f\"Current Humidity :{hmdt} percent\")\n",
    "    talk(f\"Current wind speed :{wind_spd} kilometers per hour\")"
   ]
  },
  {
   "cell_type": "code",
   "execution_count": 31,
   "id": "3d88929a",
   "metadata": {},
   "outputs": [],
   "source": [
    "current_weather(\"tunis\")"
   ]
  },
  {
   "cell_type": "code",
   "execution_count": 30,
   "id": "90fe69d5",
   "metadata": {},
   "outputs": [],
   "source": [
    "talk(\"tunis\")"
   ]
  },
  {
   "cell_type": "markdown",
   "id": "355a31da",
   "metadata": {},
   "source": [
    "***Api news***"
   ]
  },
  {
   "cell_type": "code",
   "execution_count": 102,
   "id": "a9819569",
   "metadata": {},
   "outputs": [],
   "source": [
    "# meme procedure\n",
    "# https://newsapi.org/"
   ]
  },
  {
   "cell_type": "code",
   "execution_count": 33,
   "id": "b6368780",
   "metadata": {},
   "outputs": [],
   "source": [
    "def news() :\n",
    "    api_key=\"36c48bc2548946048816a2e8c989362f\"\n",
    "    api_link=\"https://newsapi.org/v2/top-headlines?sources=bbc-news&apiKey=36c48bc2548946048816a2e8c989362f\"\n",
    "    news=requests.get(api_link).json()\n",
    "    article=news[\"articles\"]\n",
    "    #print(article)\n",
    "    news_article=[]\n",
    "    for arti in article:\n",
    "        news_article.append(arti['title'])\n",
    "    \n",
    "\n",
    "    for i in range(4):\n",
    "        talk(f\"the title {i+1} is : \"+news_article[i]) \n",
    "        \n",
    "    talk(\"do you want more details ? say yes or no if not \")\n",
    "    reponse=Listen()\n",
    "    if reponse==\"yes\":\n",
    "        news_description=[]\n",
    "        for des in article:\n",
    "            news_description.append(des['description'])\n",
    "        for i in range(2):\n",
    "            talk(f\"the description of the title {i+1} is : \"+news_description[i])\n",
    "    elif reponse ==\"no\":\n",
    "        talk(\"ok goodbye\")\n",
    "    else:\n",
    "        talk(\"sorry, I can't find what you are looking for\")"
   ]
  },
  {
   "cell_type": "code",
   "execution_count": 36,
   "id": "58a7ae7f",
   "metadata": {},
   "outputs": [
    {
     "ename": "NameError",
     "evalue": "name 'Listen' is not defined",
     "output_type": "error",
     "traceback": [
      "\u001b[1;31m---------------------------------------------------------------------------\u001b[0m",
      "\u001b[1;31mNameError\u001b[0m                                 Traceback (most recent call last)",
      "\u001b[1;32m<ipython-input-36-45f33aed5175>\u001b[0m in \u001b[0;36m<module>\u001b[1;34m\u001b[0m\n\u001b[0;32m      1\u001b[0m \u001b[0mtalk\u001b[0m\u001b[1;33m(\u001b[0m\u001b[1;34m\"there are two news from bbc news\"\u001b[0m\u001b[1;33m)\u001b[0m\u001b[1;33m\u001b[0m\u001b[1;33m\u001b[0m\u001b[0m\n\u001b[1;32m----> 2\u001b[1;33m \u001b[0mnews\u001b[0m\u001b[1;33m(\u001b[0m\u001b[1;33m)\u001b[0m \u001b[1;31m#test\u001b[0m\u001b[1;33m\u001b[0m\u001b[1;33m\u001b[0m\u001b[0m\n\u001b[0m",
      "\u001b[1;32m<ipython-input-33-b2e42273d499>\u001b[0m in \u001b[0;36mnews\u001b[1;34m()\u001b[0m\n\u001b[0;32m     14\u001b[0m \u001b[1;33m\u001b[0m\u001b[0m\n\u001b[0;32m     15\u001b[0m     \u001b[0mtalk\u001b[0m\u001b[1;33m(\u001b[0m\u001b[1;34m\"do you want more details ? say yes or no if not \"\u001b[0m\u001b[1;33m)\u001b[0m\u001b[1;33m\u001b[0m\u001b[1;33m\u001b[0m\u001b[0m\n\u001b[1;32m---> 16\u001b[1;33m     \u001b[0mreponse\u001b[0m\u001b[1;33m=\u001b[0m\u001b[0mListen\u001b[0m\u001b[1;33m(\u001b[0m\u001b[1;33m)\u001b[0m\u001b[1;33m\u001b[0m\u001b[1;33m\u001b[0m\u001b[0m\n\u001b[0m\u001b[0;32m     17\u001b[0m     \u001b[1;32mif\u001b[0m \u001b[0mreponse\u001b[0m\u001b[1;33m==\u001b[0m\u001b[1;34m\"yes\"\u001b[0m\u001b[1;33m:\u001b[0m\u001b[1;33m\u001b[0m\u001b[1;33m\u001b[0m\u001b[0m\n\u001b[0;32m     18\u001b[0m         \u001b[0mnews_description\u001b[0m\u001b[1;33m=\u001b[0m\u001b[1;33m[\u001b[0m\u001b[1;33m]\u001b[0m\u001b[1;33m\u001b[0m\u001b[1;33m\u001b[0m\u001b[0m\n",
      "\u001b[1;31mNameError\u001b[0m: name 'Listen' is not defined"
     ]
    }
   ],
   "source": [
    "talk(\"there are two news from bbc news\")\n",
    "news() #test "
   ]
  },
  {
   "cell_type": "markdown",
   "id": "fc3b3592",
   "metadata": {},
   "source": [
    "***Service de messagerie***"
   ]
  },
  {
   "cell_type": "code",
   "execution_count": null,
   "id": "9a8b2b20",
   "metadata": {},
   "outputs": [],
   "source": [
    "# !pip install pyairmore"
   ]
  },
  {
   "cell_type": "code",
   "execution_count": 64,
   "id": "824ce8dd",
   "metadata": {},
   "outputs": [],
   "source": [
    "# installer l'application airmore sur votre smartphone \n",
    "# airmore permet le partage des fichiers entre un pc et un smartphone \n",
    "# https://pyairmore.readthedocs.io/en/master/services/messaging-service/ : documentation"
   ]
  },
  {
   "cell_type": "code",
   "execution_count": 39,
   "id": "858b0c03",
   "metadata": {},
   "outputs": [],
   "source": [
    "from ipaddress import IPv4Address  \n",
    "from pyairmore.request import AirmoreSession\n",
    "from pyairmore.services.messaging import MessagingService # importer le service de messagerie"
   ]
  },
  {
   "cell_type": "code",
   "execution_count": 9,
   "id": "2b61c923",
   "metadata": {},
   "outputs": [
    {
     "name": "stdout",
     "output_type": "stream",
     "text": [
      "3ami Zoheir\n",
      "+21658357039\n",
      "Zone d'alarme 7\n",
      "2022-04-23 14:23:07\n"
     ]
    }
   ],
   "source": [
    "#cellule de test\n",
    "ip = IPv4Address(\"192.168.1.9\") # adresse ip du smartphone affichée sur l'application airmore\n",
    "session = AirmoreSession(ip)\n",
    "service = MessagingService(session)\n",
    "messages = service.fetch_message_history()\n",
    "print(messages[8].name)\n",
    "print(messages[8].phone)\n",
    "print(messages[4].content)\n",
    "print(messages[4].datetime)"
   ]
  },
  {
   "cell_type": "code",
   "execution_count": 23,
   "id": "245613d1",
   "metadata": {},
   "outputs": [],
   "source": [
    "talk(\"hello, we are turki ayman and zouari rami , welcome to this demo video of our project : Alexa chatbot , the IA assistant for safe driving , good  watching\")"
   ]
  },
  {
   "cell_type": "code",
   "execution_count": null,
   "id": "14460afd",
   "metadata": {},
   "outputs": [],
   "source": [
    "def read_sms(nbr_msg) :\n",
    "    nbr_msg=int(nbr_msg)\n",
    "    ip = IPv4Address(\"192.168.1.9\") # adresse ip du smartphone affichée sur l'application airmore\n",
    "    session = AirmoreSession(ip)\n",
    "    service = MessagingService(session)\n",
    "    messages = service.fetch_message_history()\n",
    "    talk(f\"fetching the {nbr_msg} latest telephone messages\")\n",
    "    for i in range (nbr_msg):\n",
    "        talk(f\"the message number {i+1} is from {messages[i].name} at the date {messages[i].datetime} and his content is {messages[i].content}\")\n",
    "        print(f\"the message number {i+1} is from {messages[i].name} at the date {messages[i].datetime} and his content is {messages[i].content}\")"
   ]
  },
  {
   "cell_type": "code",
   "execution_count": 52,
   "id": "b8e4c325",
   "metadata": {},
   "outputs": [
    {
     "name": "stdout",
     "output_type": "stream",
     "text": [
      "the message number 1 is from 95273230 at the date 2022-05-16 19:28:15 and his content is rami & ayman\n"
     ]
    }
   ],
   "source": [
    "read_sms(\"1\") "
   ]
  },
  {
   "cell_type": "code",
   "execution_count": 62,
   "id": "60fc3ad0",
   "metadata": {},
   "outputs": [],
   "source": [
    "talk(\"weather\")"
   ]
  },
  {
   "cell_type": "code",
   "execution_count": 6,
   "id": "cdf218a3",
   "metadata": {},
   "outputs": [
    {
     "name": "stdout",
     "output_type": "stream",
     "text": [
      " listening ...\n",
      "192.168. 1. 9\n"
     ]
    },
    {
     "data": {
      "text/plain": [
       "'192.168. 1. 9'"
      ]
     },
     "execution_count": 6,
     "metadata": {},
     "output_type": "execute_result"
    }
   ],
   "source": [
    "Listen()"
   ]
  },
  {
   "cell_type": "code",
   "execution_count": 40,
   "id": "97c874f4",
   "metadata": {},
   "outputs": [],
   "source": [
    "def send_sms(phone_number, content) :\n",
    "    ip = IPv4Address(\"192.168.1.9\") # adresse ip du smartphone affichée sur l'application airmore\n",
    "    session = AirmoreSession(ip)\n",
    "    service = MessagingService(session)\n",
    "    try:\n",
    "        service.send_message(phone_number, content)\n",
    "        talk(\"SMS sending successful\")\n",
    "        print(\"SMS sending successful\")\n",
    "    except MessageRequestGSMError:\n",
    "        talk(\"SMS sending failed\")"
   ]
  },
  {
   "cell_type": "code",
   "execution_count": 41,
   "id": "3d458195",
   "metadata": {},
   "outputs": [
    {
     "name": "stdout",
     "output_type": "stream",
     "text": [
      "SMS sending successful\n"
     ]
    }
   ],
   "source": [
    "send_sms(\"95273230\",\"rami & ayman\")"
   ]
  },
  {
   "cell_type": "markdown",
   "id": "08235623",
   "metadata": {},
   "source": [
    "***Service Mail***"
   ]
  },
  {
   "cell_type": "code",
   "execution_count": 42,
   "id": "e2d0ba09",
   "metadata": {},
   "outputs": [],
   "source": [
    "import smtplib\n",
    "from email.message import EmailMessage"
   ]
  },
  {
   "cell_type": "code",
   "execution_count": 44,
   "id": "be8a334b",
   "metadata": {},
   "outputs": [],
   "source": [
    "def email_alert(subject, body, to):\n",
    "    msg = EmailMessage()\n",
    "    \n",
    "    msg.set_content(body)\n",
    "    msg['subject'] = subject\n",
    "    msg['to'] = to\n",
    "    \n",
    "    user = \"chatbotalexa@gmail.com\"\n",
    "    password = \"aynkmnhckaywwctc\"\n",
    "    \n",
    "    msg['from']=user\n",
    "    \n",
    "    server = smtplib.SMTP(\"smtp.gmail.com\", 587)\n",
    "    server.starttls()\n",
    "    server.login(user, password)\n",
    "    \n",
    "    server.send_message(msg)\n",
    "    talk(\"email sending successful\")\n",
    "    print(\"Email sending successful\")\n",
    "    \n",
    "    server.quit()"
   ]
  },
  {
   "cell_type": "code",
   "execution_count": 45,
   "id": "b62c109d",
   "metadata": {},
   "outputs": [
    {
     "name": "stdout",
     "output_type": "stream",
     "text": [
      "Email sending successful\n"
     ]
    }
   ],
   "source": [
    "email_alert(\"test\",\"hello world\",\"aturki285@gmail.com\")"
   ]
  },
  {
   "cell_type": "markdown",
   "id": "183668f5",
   "metadata": {},
   "source": [
    "***Test finale***"
   ]
  },
  {
   "cell_type": "code",
   "execution_count": 68,
   "id": "e7ec681a",
   "metadata": {},
   "outputs": [],
   "source": [
    "def run_voice_bot(command):\n",
    "    #command = Listen()\n",
    "    if \"alexa\" in command:\n",
    "        command = command.replace(\"alexa\",\"\")\n",
    "        if \"navigation\" in command:\n",
    "            command = command.replace(\"navigation\", \"\")\n",
    "            talk(\"what is the starting point ?\")\n",
    "            nom=Listen()\n",
    "            if nom=='my position':\n",
    "                loc1=my_position()\n",
    "            else:\n",
    "                loc1=get_localisation(nom)\n",
    "                \n",
    "            talk(\"what is the destination ? \")\n",
    "            nom=Listen()\n",
    "            loc2=get_localisation(nom)\n",
    "            get_distance(loc1,loc2)\n",
    "        elif \"joke\" in command:\n",
    "            command = command.replace(\"joke\", \"\")\n",
    "            joke()\n",
    "        elif \"clock\" in command:\n",
    "            talk(datetime.now().strftime(\"%d %b %Y | %I:%M:%S %p\"))\n",
    "        elif \"weather\" in command:\n",
    "            talk(\"give me the city \")\n",
    "            city=Listen()\n",
    "            current_weather(city)\n",
    "        elif \"news\" in command:\n",
    "            talk(\"there is the four news in the spotlight of today by BBC NEWS \")\n",
    "            news()\n",
    "        elif \"email\" in command :\n",
    "            talk(\"give me the subject of the email\")\n",
    "            subject=Listen()\n",
    "            talk(\"give me the body of the email\")\n",
    "            body=Listen()\n",
    "            talk(\"give me the mail address of the receiver\")\n",
    "            to=Listen()\n",
    "            email_alert(subject,body,to)\n",
    "        elif \"chat\" in command:\n",
    "            talk(\"what service you want ? send or fetch messages\")\n",
    "            response=Listen()\n",
    "            if response==\"fetch\":\n",
    "                talk(\"give me the number of messages that you want to fetch\")\n",
    "                nbr=Listen()\n",
    "                read_sms(nbr)\n",
    "            elif response==\"send\":\n",
    "                talk(\"give the phone number of the receiver\")\n",
    "                num=Listen()\n",
    "                talk(\"alright , now say the content of the message please\")\n",
    "                content=Listen()\n",
    "                send_sms(num,content)\n",
    "            else :\n",
    "                talk(\"sorry, I can't find what you are looking for\")\n",
    "        elif \"to do\" in command : \n",
    "            command = command.replace(\"to do\", \"\")\n",
    "            talk(\"choose one option : add item , remove item or list items \")\n",
    "            command=Listen()\n",
    "            if \"add item\" in command :\n",
    "                command = command.replace(\"add item\", \"\")\n",
    "                add_todo()\n",
    "                another_choice()               \n",
    "            elif \"remove item\" in command :\n",
    "                command = command.replace(\"remove item\", \"\")\n",
    "                remove_todo()\n",
    "                another_choice()\n",
    "            elif \"list items\" in command :\n",
    "                command = command.replace(\"list items\", \"\")\n",
    "                list_todos()\n",
    "                another_choice()\n",
    "            else : \n",
    "                talk(\"sorry, I can't find what you are looking for\")\n",
    "        else : \n",
    "            talk(\"sorry, I can't find what you are looking for\")"
   ]
  },
  {
   "cell_type": "code",
   "execution_count": 31,
   "id": "ecc2c5a4",
   "metadata": {},
   "outputs": [
    {
     "name": "stdout",
     "output_type": "stream",
     "text": [
      " listening ...\n",
      "alexa to do\n",
      "command was: alexa to do\n",
      " listening ...\n",
      "add item\n",
      " listening ...\n",
      "go shopping\n",
      " listening ...\n",
      "yes add item\n",
      " listening ...\n",
      "go shopping\n",
      "command was: go shopping\n",
      " listening ...\n",
      "command was: \n",
      " listening ...\n",
      "goodbye\n",
      "command was: goodbye\n"
     ]
    }
   ],
   "source": [
    "command=\"\"\n",
    "talk(\"Hello i'm alexa your voice bot assistant\")\n",
    "while True and command!=\"goodbye\" :\n",
    "    try:\n",
    "        command = Listen()\n",
    "        command = command.lower()\n",
    "    except:\n",
    "        talk(\"oops there was an error\")\n",
    "        command = \"\"\n",
    "    print(\"command was:\", command)\n",
    "    \n",
    "    run_voice_bot(command)\n",
    "talk(\"Goodbye!\")"
   ]
  }
 ],
 "metadata": {
  "kernelspec": {
   "display_name": "Python 3",
   "language": "python",
   "name": "python3"
  },
  "language_info": {
   "codemirror_mode": {
    "name": "ipython",
    "version": 3
   },
   "file_extension": ".py",
   "mimetype": "text/x-python",
   "name": "python",
   "nbconvert_exporter": "python",
   "pygments_lexer": "ipython3",
   "version": "3.8.8"
  }
 },
 "nbformat": 4,
 "nbformat_minor": 5
}
